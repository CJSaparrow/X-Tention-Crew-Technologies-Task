{
 "cells": [
  {
   "cell_type": "markdown",
   "metadata": {},
   "source": [
    "# Comprehensive Stock Analysis and Prediction Task"
   ]
  },
  {
   "cell_type": "markdown",
   "metadata": {
    "id": "52ihReAJJ3_d"
   },
   "source": [
    "#### Importing the libraries."
   ]
  },
  {
   "cell_type": "code",
   "execution_count": 79,
   "metadata": {
    "id": "obXvXPN8I9dF"
   },
   "outputs": [],
   "source": [
    "import tensorflow as tf\n",
    "from tensorflow import keras\n",
    "import sklearn\n",
    "import matplotlib.pyplot as plt\n",
    "import pandas as pd\n",
    "import numpy as np\n",
    "import datetime\n",
    "\n",
    "import warnings\n",
    "warnings.filterwarnings('ignore')"
   ]
  },
  {
   "cell_type": "markdown",
   "metadata": {
    "id": "MHeNjq1ixOJb"
   },
   "source": [
    "## 1. Data Validation and Cleaning:\n",
    "####    Loading dataset (NSEI.csv)\n"
   ]
  },
  {
   "cell_type": "code",
   "execution_count": 80,
   "metadata": {
    "colab": {
     "base_uri": "https://localhost:8080/",
     "height": 221
    },
    "id": "YmwVmNcTJcrA",
    "outputId": "633b01af-12b1-4067-aaef-62bca5cf6a36"
   },
   "outputs": [
    {
     "data": {
      "text/plain": [
       "<bound method DataFrame.info of             Date          Open          High           Low         Close  \\\n",
       "0     2013-04-05   5568.100098   5577.299805   5534.700195   5553.250000   \n",
       "1     2013-04-08   5550.500000   5569.200195   5537.049805   5542.950195   \n",
       "2     2013-04-09   5568.750000   5603.049805   5487.000000   5495.100098   \n",
       "3     2013-04-10   5536.250000   5569.250000   5477.200195   5558.700195   \n",
       "4     2013-04-11   5601.649902   5610.649902   5542.850098   5594.000000   \n",
       "...          ...           ...           ...           ...           ...   \n",
       "2708  2024-03-28  22163.599609  22516.000000  22163.599609  22326.900391   \n",
       "2709  2024-04-01  22455.000000  22529.949219  22427.750000  22462.000000   \n",
       "2710  2024-04-02  22458.800781  22497.599609  22388.150391  22453.300781   \n",
       "2711  2024-04-03  22385.699219  22521.099609  22346.500000  22434.650391   \n",
       "2712  2024-04-04  22592.099609  22619.000000  22303.800781  22514.650391   \n",
       "\n",
       "         Adj Close    Volume  \n",
       "0      5553.250000  137500.0  \n",
       "1      5542.950195   97000.0  \n",
       "2      5495.100098  138200.0  \n",
       "3      5558.700195  128600.0  \n",
       "4      5594.000000  146800.0  \n",
       "...            ...       ...  \n",
       "2708  22326.900391  410500.0  \n",
       "2709  22462.000000       0.0  \n",
       "2710  22453.300781  289500.0  \n",
       "2711  22434.650391  309600.0  \n",
       "2712  22514.650391  401000.0  \n",
       "\n",
       "[2713 rows x 7 columns]>"
      ]
     },
     "execution_count": 80,
     "metadata": {},
     "output_type": "execute_result"
    }
   ],
   "source": [
    "df = pd.read_csv('NSEI.csv')\n",
    "df.info\n"
   ]
  },
  {
   "cell_type": "code",
   "execution_count": 81,
   "metadata": {
    "colab": {
     "base_uri": "https://localhost:8080/",
     "height": 206
    },
    "id": "jCl1luTuccJM",
    "outputId": "f270a17e-36ad-4a71-cf77-1129bad79ee4"
   },
   "outputs": [
    {
     "data": {
      "text/html": [
       "<div>\n",
       "<style scoped>\n",
       "    .dataframe tbody tr th:only-of-type {\n",
       "        vertical-align: middle;\n",
       "    }\n",
       "\n",
       "    .dataframe tbody tr th {\n",
       "        vertical-align: top;\n",
       "    }\n",
       "\n",
       "    .dataframe thead th {\n",
       "        text-align: right;\n",
       "    }\n",
       "</style>\n",
       "<table border=\"1\" class=\"dataframe\">\n",
       "  <thead>\n",
       "    <tr style=\"text-align: right;\">\n",
       "      <th></th>\n",
       "      <th>Date</th>\n",
       "      <th>Open</th>\n",
       "      <th>High</th>\n",
       "      <th>Low</th>\n",
       "      <th>Close</th>\n",
       "      <th>Adj Close</th>\n",
       "      <th>Volume</th>\n",
       "    </tr>\n",
       "  </thead>\n",
       "  <tbody>\n",
       "    <tr>\n",
       "      <th>2708</th>\n",
       "      <td>2024-03-28</td>\n",
       "      <td>22163.599609</td>\n",
       "      <td>22516.000000</td>\n",
       "      <td>22163.599609</td>\n",
       "      <td>22326.900391</td>\n",
       "      <td>22326.900391</td>\n",
       "      <td>410500.0</td>\n",
       "    </tr>\n",
       "    <tr>\n",
       "      <th>2709</th>\n",
       "      <td>2024-04-01</td>\n",
       "      <td>22455.000000</td>\n",
       "      <td>22529.949219</td>\n",
       "      <td>22427.750000</td>\n",
       "      <td>22462.000000</td>\n",
       "      <td>22462.000000</td>\n",
       "      <td>0.0</td>\n",
       "    </tr>\n",
       "    <tr>\n",
       "      <th>2710</th>\n",
       "      <td>2024-04-02</td>\n",
       "      <td>22458.800781</td>\n",
       "      <td>22497.599609</td>\n",
       "      <td>22388.150391</td>\n",
       "      <td>22453.300781</td>\n",
       "      <td>22453.300781</td>\n",
       "      <td>289500.0</td>\n",
       "    </tr>\n",
       "    <tr>\n",
       "      <th>2711</th>\n",
       "      <td>2024-04-03</td>\n",
       "      <td>22385.699219</td>\n",
       "      <td>22521.099609</td>\n",
       "      <td>22346.500000</td>\n",
       "      <td>22434.650391</td>\n",
       "      <td>22434.650391</td>\n",
       "      <td>309600.0</td>\n",
       "    </tr>\n",
       "    <tr>\n",
       "      <th>2712</th>\n",
       "      <td>2024-04-04</td>\n",
       "      <td>22592.099609</td>\n",
       "      <td>22619.000000</td>\n",
       "      <td>22303.800781</td>\n",
       "      <td>22514.650391</td>\n",
       "      <td>22514.650391</td>\n",
       "      <td>401000.0</td>\n",
       "    </tr>\n",
       "  </tbody>\n",
       "</table>\n",
       "</div>"
      ],
      "text/plain": [
       "            Date          Open          High           Low         Close  \\\n",
       "2708  2024-03-28  22163.599609  22516.000000  22163.599609  22326.900391   \n",
       "2709  2024-04-01  22455.000000  22529.949219  22427.750000  22462.000000   \n",
       "2710  2024-04-02  22458.800781  22497.599609  22388.150391  22453.300781   \n",
       "2711  2024-04-03  22385.699219  22521.099609  22346.500000  22434.650391   \n",
       "2712  2024-04-04  22592.099609  22619.000000  22303.800781  22514.650391   \n",
       "\n",
       "         Adj Close    Volume  \n",
       "2708  22326.900391  410500.0  \n",
       "2709  22462.000000       0.0  \n",
       "2710  22453.300781  289500.0  \n",
       "2711  22434.650391  309600.0  \n",
       "2712  22514.650391  401000.0  "
      ]
     },
     "execution_count": 81,
     "metadata": {},
     "output_type": "execute_result"
    }
   ],
   "source": [
    "df.tail()"
   ]
  },
  {
   "cell_type": "code",
   "execution_count": 82,
   "metadata": {
    "colab": {
     "base_uri": "https://localhost:8080/",
     "height": 237
    },
    "id": "clKfBjgbJfI-",
    "outputId": "afdff4d9-147f-470d-8e8e-4bf6a0bd2488",
    "scrolled": true
   },
   "outputs": [
    {
     "data": {
      "text/html": [
       "<div>\n",
       "<style scoped>\n",
       "    .dataframe tbody tr th:only-of-type {\n",
       "        vertical-align: middle;\n",
       "    }\n",
       "\n",
       "    .dataframe tbody tr th {\n",
       "        vertical-align: top;\n",
       "    }\n",
       "\n",
       "    .dataframe thead th {\n",
       "        text-align: right;\n",
       "    }\n",
       "</style>\n",
       "<table border=\"1\" class=\"dataframe\">\n",
       "  <thead>\n",
       "    <tr style=\"text-align: right;\">\n",
       "      <th></th>\n",
       "      <th>Date</th>\n",
       "      <th>Open</th>\n",
       "      <th>High</th>\n",
       "      <th>Low</th>\n",
       "      <th>Close</th>\n",
       "      <th>Adj Close</th>\n",
       "      <th>Volume</th>\n",
       "    </tr>\n",
       "    <tr>\n",
       "      <th>Date</th>\n",
       "      <th></th>\n",
       "      <th></th>\n",
       "      <th></th>\n",
       "      <th></th>\n",
       "      <th></th>\n",
       "      <th></th>\n",
       "      <th></th>\n",
       "    </tr>\n",
       "  </thead>\n",
       "  <tbody>\n",
       "    <tr>\n",
       "      <th>2024-03-28</th>\n",
       "      <td>2024-03-28</td>\n",
       "      <td>22163.599609</td>\n",
       "      <td>22516.000000</td>\n",
       "      <td>22163.599609</td>\n",
       "      <td>22326.900391</td>\n",
       "      <td>22326.900391</td>\n",
       "      <td>410500.0</td>\n",
       "    </tr>\n",
       "    <tr>\n",
       "      <th>2024-04-01</th>\n",
       "      <td>2024-04-01</td>\n",
       "      <td>22455.000000</td>\n",
       "      <td>22529.949219</td>\n",
       "      <td>22427.750000</td>\n",
       "      <td>22462.000000</td>\n",
       "      <td>22462.000000</td>\n",
       "      <td>0.0</td>\n",
       "    </tr>\n",
       "    <tr>\n",
       "      <th>2024-04-02</th>\n",
       "      <td>2024-04-02</td>\n",
       "      <td>22458.800781</td>\n",
       "      <td>22497.599609</td>\n",
       "      <td>22388.150391</td>\n",
       "      <td>22453.300781</td>\n",
       "      <td>22453.300781</td>\n",
       "      <td>289500.0</td>\n",
       "    </tr>\n",
       "    <tr>\n",
       "      <th>2024-04-03</th>\n",
       "      <td>2024-04-03</td>\n",
       "      <td>22385.699219</td>\n",
       "      <td>22521.099609</td>\n",
       "      <td>22346.500000</td>\n",
       "      <td>22434.650391</td>\n",
       "      <td>22434.650391</td>\n",
       "      <td>309600.0</td>\n",
       "    </tr>\n",
       "    <tr>\n",
       "      <th>2024-04-04</th>\n",
       "      <td>2024-04-04</td>\n",
       "      <td>22592.099609</td>\n",
       "      <td>22619.000000</td>\n",
       "      <td>22303.800781</td>\n",
       "      <td>22514.650391</td>\n",
       "      <td>22514.650391</td>\n",
       "      <td>401000.0</td>\n",
       "    </tr>\n",
       "  </tbody>\n",
       "</table>\n",
       "</div>"
      ],
      "text/plain": [
       "                 Date          Open          High           Low         Close  \\\n",
       "Date                                                                            \n",
       "2024-03-28 2024-03-28  22163.599609  22516.000000  22163.599609  22326.900391   \n",
       "2024-04-01 2024-04-01  22455.000000  22529.949219  22427.750000  22462.000000   \n",
       "2024-04-02 2024-04-02  22458.800781  22497.599609  22388.150391  22453.300781   \n",
       "2024-04-03 2024-04-03  22385.699219  22521.099609  22346.500000  22434.650391   \n",
       "2024-04-04 2024-04-04  22592.099609  22619.000000  22303.800781  22514.650391   \n",
       "\n",
       "               Adj Close    Volume  \n",
       "Date                                \n",
       "2024-03-28  22326.900391  410500.0  \n",
       "2024-04-01  22462.000000       0.0  \n",
       "2024-04-02  22453.300781  289500.0  \n",
       "2024-04-03  22434.650391  309600.0  \n",
       "2024-04-04  22514.650391  401000.0  "
      ]
     },
     "execution_count": 82,
     "metadata": {},
     "output_type": "execute_result"
    }
   ],
   "source": [
    "df[\"Date\"]=pd.to_datetime(df.Date,format=\"%Y-%m-%d\")\n",
    "df.index = df['Date']\n",
    "df.tail()"
   ]
  },
  {
   "cell_type": "markdown",
   "metadata": {},
   "source": [
    "# 2. Stock Analysis:\n",
    "#### Statistical measures\n",
    "#### Exploratory Data Analysis (EDA)"
   ]
  },
  {
   "cell_type": "code",
   "execution_count": 83,
   "metadata": {
    "colab": {
     "base_uri": "https://localhost:8080/",
     "height": 300
    },
    "id": "x2f2NL7AJkXg",
    "outputId": "8cda0a82-9116-4941-b418-1e6ba76b4fe8"
   },
   "outputs": [
    {
     "data": {
      "text/html": [
       "<div>\n",
       "<style scoped>\n",
       "    .dataframe tbody tr th:only-of-type {\n",
       "        vertical-align: middle;\n",
       "    }\n",
       "\n",
       "    .dataframe tbody tr th {\n",
       "        vertical-align: top;\n",
       "    }\n",
       "\n",
       "    .dataframe thead th {\n",
       "        text-align: right;\n",
       "    }\n",
       "</style>\n",
       "<table border=\"1\" class=\"dataframe\">\n",
       "  <thead>\n",
       "    <tr style=\"text-align: right;\">\n",
       "      <th></th>\n",
       "      <th>Date</th>\n",
       "      <th>Open</th>\n",
       "      <th>High</th>\n",
       "      <th>Low</th>\n",
       "      <th>Close</th>\n",
       "      <th>Adj Close</th>\n",
       "      <th>Volume</th>\n",
       "    </tr>\n",
       "  </thead>\n",
       "  <tbody>\n",
       "    <tr>\n",
       "      <th>count</th>\n",
       "      <td>2713</td>\n",
       "      <td>2699.000000</td>\n",
       "      <td>2699.000000</td>\n",
       "      <td>2699.000000</td>\n",
       "      <td>2699.000000</td>\n",
       "      <td>2699.000000</td>\n",
       "      <td>2.699000e+03</td>\n",
       "    </tr>\n",
       "    <tr>\n",
       "      <th>mean</th>\n",
       "      <td>2018-10-06 11:34:15.436785920</td>\n",
       "      <td>11747.363099</td>\n",
       "      <td>11802.482345</td>\n",
       "      <td>11672.645543</td>\n",
       "      <td>11739.307379</td>\n",
       "      <td>11739.307379</td>\n",
       "      <td>2.986834e+05</td>\n",
       "    </tr>\n",
       "    <tr>\n",
       "      <th>min</th>\n",
       "      <td>2013-04-05 00:00:00</td>\n",
       "      <td>5233.450195</td>\n",
       "      <td>5317.700195</td>\n",
       "      <td>5118.850098</td>\n",
       "      <td>5285.000000</td>\n",
       "      <td>5285.000000</td>\n",
       "      <td>0.000000e+00</td>\n",
       "    </tr>\n",
       "    <tr>\n",
       "      <th>25%</th>\n",
       "      <td>2016-01-07 00:00:00</td>\n",
       "      <td>8287.100097</td>\n",
       "      <td>8332.674805</td>\n",
       "      <td>8231.225097</td>\n",
       "      <td>8286.674805</td>\n",
       "      <td>8286.674805</td>\n",
       "      <td>1.717500e+05</td>\n",
       "    </tr>\n",
       "    <tr>\n",
       "      <th>50%</th>\n",
       "      <td>2018-10-05 00:00:00</td>\n",
       "      <td>10660.799805</td>\n",
       "      <td>10713.299805</td>\n",
       "      <td>10596.349609</td>\n",
       "      <td>10651.799805</td>\n",
       "      <td>10651.799805</td>\n",
       "      <td>2.371000e+05</td>\n",
       "    </tr>\n",
       "    <tr>\n",
       "      <th>75%</th>\n",
       "      <td>2021-07-07 00:00:00</td>\n",
       "      <td>15762.125000</td>\n",
       "      <td>15835.174805</td>\n",
       "      <td>15679.450195</td>\n",
       "      <td>15750.050293</td>\n",
       "      <td>15750.050293</td>\n",
       "      <td>3.560500e+05</td>\n",
       "    </tr>\n",
       "    <tr>\n",
       "      <th>max</th>\n",
       "      <td>2024-04-04 00:00:00</td>\n",
       "      <td>22592.099609</td>\n",
       "      <td>22619.000000</td>\n",
       "      <td>22430.000000</td>\n",
       "      <td>22514.650391</td>\n",
       "      <td>22514.650391</td>\n",
       "      <td>1.811000e+06</td>\n",
       "    </tr>\n",
       "    <tr>\n",
       "      <th>std</th>\n",
       "      <td>NaN</td>\n",
       "      <td>4370.766646</td>\n",
       "      <td>4385.496171</td>\n",
       "      <td>4349.702589</td>\n",
       "      <td>4369.516272</td>\n",
       "      <td>4369.516272</td>\n",
       "      <td>1.935206e+05</td>\n",
       "    </tr>\n",
       "  </tbody>\n",
       "</table>\n",
       "</div>"
      ],
      "text/plain": [
       "                                Date          Open          High  \\\n",
       "count                           2713   2699.000000   2699.000000   \n",
       "mean   2018-10-06 11:34:15.436785920  11747.363099  11802.482345   \n",
       "min              2013-04-05 00:00:00   5233.450195   5317.700195   \n",
       "25%              2016-01-07 00:00:00   8287.100097   8332.674805   \n",
       "50%              2018-10-05 00:00:00  10660.799805  10713.299805   \n",
       "75%              2021-07-07 00:00:00  15762.125000  15835.174805   \n",
       "max              2024-04-04 00:00:00  22592.099609  22619.000000   \n",
       "std                              NaN   4370.766646   4385.496171   \n",
       "\n",
       "                Low         Close     Adj Close        Volume  \n",
       "count   2699.000000   2699.000000   2699.000000  2.699000e+03  \n",
       "mean   11672.645543  11739.307379  11739.307379  2.986834e+05  \n",
       "min     5118.850098   5285.000000   5285.000000  0.000000e+00  \n",
       "25%     8231.225097   8286.674805   8286.674805  1.717500e+05  \n",
       "50%    10596.349609  10651.799805  10651.799805  2.371000e+05  \n",
       "75%    15679.450195  15750.050293  15750.050293  3.560500e+05  \n",
       "max    22430.000000  22514.650391  22514.650391  1.811000e+06  \n",
       "std     4349.702589   4369.516272   4369.516272  1.935206e+05  "
      ]
     },
     "execution_count": 83,
     "metadata": {},
     "output_type": "execute_result"
    }
   ],
   "source": [
    "df.describe()"
   ]
  },
  {
   "cell_type": "code",
   "execution_count": 84,
   "metadata": {
    "colab": {
     "base_uri": "https://localhost:8080/",
     "height": 237
    },
    "id": "iDveGLuFJmrx",
    "outputId": "4651fed6-5e3e-4a1f-c1e8-191eaf04aa16"
   },
   "outputs": [
    {
     "data": {
      "text/html": [
       "<div>\n",
       "<style scoped>\n",
       "    .dataframe tbody tr th:only-of-type {\n",
       "        vertical-align: middle;\n",
       "    }\n",
       "\n",
       "    .dataframe tbody tr th {\n",
       "        vertical-align: top;\n",
       "    }\n",
       "\n",
       "    .dataframe thead th {\n",
       "        text-align: right;\n",
       "    }\n",
       "</style>\n",
       "<table border=\"1\" class=\"dataframe\">\n",
       "  <thead>\n",
       "    <tr style=\"text-align: right;\">\n",
       "      <th></th>\n",
       "      <th>Close</th>\n",
       "    </tr>\n",
       "    <tr>\n",
       "      <th>Date</th>\n",
       "      <th></th>\n",
       "    </tr>\n",
       "  </thead>\n",
       "  <tbody>\n",
       "    <tr>\n",
       "      <th>2024-03-28</th>\n",
       "      <td>22326.900391</td>\n",
       "    </tr>\n",
       "    <tr>\n",
       "      <th>2024-04-01</th>\n",
       "      <td>22462.000000</td>\n",
       "    </tr>\n",
       "    <tr>\n",
       "      <th>2024-04-02</th>\n",
       "      <td>22453.300781</td>\n",
       "    </tr>\n",
       "    <tr>\n",
       "      <th>2024-04-03</th>\n",
       "      <td>22434.650391</td>\n",
       "    </tr>\n",
       "    <tr>\n",
       "      <th>2024-04-04</th>\n",
       "      <td>22514.650391</td>\n",
       "    </tr>\n",
       "  </tbody>\n",
       "</table>\n",
       "</div>"
      ],
      "text/plain": [
       "                   Close\n",
       "Date                    \n",
       "2024-03-28  22326.900391\n",
       "2024-04-01  22462.000000\n",
       "2024-04-02  22453.300781\n",
       "2024-04-03  22434.650391\n",
       "2024-04-04  22514.650391"
      ]
     },
     "execution_count": 84,
     "metadata": {},
     "output_type": "execute_result"
    }
   ],
   "source": [
    "dataset = pd.DataFrame(df[['Close']])\n",
    "dataset.tail()"
   ]
  },
  {
   "cell_type": "markdown",
   "metadata": {
    "id": "xZFHGmZjKR4s"
   },
   "source": [
    "#### Analyzing the field \"close\" of the dataset."
   ]
  },
  {
   "cell_type": "code",
   "execution_count": 85,
   "metadata": {
    "colab": {
     "base_uri": "https://localhost:8080/",
     "height": 616
    },
    "id": "exiFArAwJq4t",
    "outputId": "9826aca0-e82c-4e6e-f3b8-9dcf8df175e9"
   },
   "outputs": [
    {
     "data": {
      "text/plain": [
       "[<matplotlib.lines.Line2D at 0x754214268550>]"
      ]
     },
     "execution_count": 85,
     "metadata": {},
     "output_type": "execute_result"
    },
    {
     "data": {
      "image/png": "[encoded data removed]",
      "text/plain": [
       "<Figure size 1400x700 with 1 Axes>"
      ]
     },
     "metadata": {},
     "output_type": "display_data"
    }
   ],
   "source": [
    "plt.figure(figsize=(14,7))\n",
    "plt.plot(dataset,label='Close Price history')"
   ]
  },
  {
   "cell_type": "code",
   "execution_count": 86,
   "metadata": {
    "colab": {
     "base_uri": "https://localhost:8080/"
    },
    "id": "43f5RcALJtwG",
    "outputId": "a36df3ab-7833-4cc2-af6c-af9f3ab6d966"
   },
   "outputs": [
    {
     "name": "stdout",
     "output_type": "stream",
     "text": [
      "<class 'pandas.core.frame.DataFrame'>\n",
      "DatetimeIndex: 2713 entries, 2013-04-05 to 2024-04-04\n",
      "Data columns (total 1 columns):\n",
      " #   Column  Non-Null Count  Dtype  \n",
      "---  ------  --------------  -----  \n",
      " 0   Close   2699 non-null   float64\n",
      "dtypes: float64(1)\n",
      "memory usage: 42.4 KB\n"
     ]
    }
   ],
   "source": [
    "dataset.info()"
   ]
  },
  {
   "cell_type": "code",
   "execution_count": 87,
   "metadata": {
    "colab": {
     "base_uri": "https://localhost:8080/"
    },
    "id": "bSzujUyEwxHg",
    "outputId": "f5a828ee-e986-49eb-dfdf-981981ea505e"
   },
   "outputs": [
    {
     "name": "stdout",
     "output_type": "stream",
     "text": [
      "<class 'pandas.core.frame.DataFrame'>\n",
      "DatetimeIndex: 2699 entries, 2013-04-05 to 2024-04-04\n",
      "Data columns (total 1 columns):\n",
      " #   Column  Non-Null Count  Dtype  \n",
      "---  ------  --------------  -----  \n",
      " 0   Close   2699 non-null   float64\n",
      "dtypes: float64(1)\n",
      "memory usage: 42.2 KB\n"
     ]
    }
   ],
   "source": [
    "dataset = dataset.dropna()\n",
    "dataset.info()"
   ]
  },
  {
   "cell_type": "code",
   "execution_count": 88,
   "metadata": {
    "colab": {
     "base_uri": "https://localhost:8080/",
     "height": 237
    },
    "id": "H2gL1m6Mw0H8",
    "outputId": "a22750be-f4bb-41f3-8f93-ec0ae030324d"
   },
   "outputs": [
    {
     "data": {
      "text/html": [
       "<div>\n",
       "<style scoped>\n",
       "    .dataframe tbody tr th:only-of-type {\n",
       "        vertical-align: middle;\n",
       "    }\n",
       "\n",
       "    .dataframe tbody tr th {\n",
       "        vertical-align: top;\n",
       "    }\n",
       "\n",
       "    .dataframe thead th {\n",
       "        text-align: right;\n",
       "    }\n",
       "</style>\n",
       "<table border=\"1\" class=\"dataframe\">\n",
       "  <thead>\n",
       "    <tr style=\"text-align: right;\">\n",
       "      <th></th>\n",
       "      <th>Close</th>\n",
       "    </tr>\n",
       "    <tr>\n",
       "      <th>Date</th>\n",
       "      <th></th>\n",
       "    </tr>\n",
       "  </thead>\n",
       "  <tbody>\n",
       "    <tr>\n",
       "      <th>2024-03-28</th>\n",
       "      <td>22326.900391</td>\n",
       "    </tr>\n",
       "    <tr>\n",
       "      <th>2024-04-01</th>\n",
       "      <td>22462.000000</td>\n",
       "    </tr>\n",
       "    <tr>\n",
       "      <th>2024-04-02</th>\n",
       "      <td>22453.300781</td>\n",
       "    </tr>\n",
       "    <tr>\n",
       "      <th>2024-04-03</th>\n",
       "      <td>22434.650391</td>\n",
       "    </tr>\n",
       "    <tr>\n",
       "      <th>2024-04-04</th>\n",
       "      <td>22514.650391</td>\n",
       "    </tr>\n",
       "  </tbody>\n",
       "</table>\n",
       "</div>"
      ],
      "text/plain": [
       "                   Close\n",
       "Date                    \n",
       "2024-03-28  22326.900391\n",
       "2024-04-01  22462.000000\n",
       "2024-04-02  22453.300781\n",
       "2024-04-03  22434.650391\n",
       "2024-04-04  22514.650391"
      ]
     },
     "execution_count": 88,
     "metadata": {},
     "output_type": "execute_result"
    }
   ],
   "source": [
    "dataset.tail()"
   ]
  },
  {
   "cell_type": "markdown",
   "metadata": {},
   "source": [
    "## 3. Predictive Modeling: (LSTM Model)\n",
    "#### Splitting data for training"
   ]
  },
  {
   "cell_type": "code",
   "execution_count": 89,
   "metadata": {
    "colab": {
     "base_uri": "https://localhost:8080/"
    },
    "id": "SVggHRKExBkb",
    "outputId": "32f5572a-a790-4e91-b0d4-632e1d5b8830"
   },
   "outputs": [
    {
     "data": {
      "text/plain": [
       "array([[0.01556909],\n",
       "       [0.0149713 ],\n",
       "       [0.0121941 ],\n",
       "       [0.01588542],\n",
       "       [0.0179342 ]])"
      ]
     },
     "execution_count": 89,
     "metadata": {},
     "output_type": "execute_result"
    }
   ],
   "source": [
    "from sklearn.preprocessing import MinMaxScaler\n",
    "scaler = MinMaxScaler()\n",
    "scaled_data = scaler.fit_transform(dataset)\n",
    "scaled_data[:5]"
   ]
  },
  {
   "cell_type": "code",
   "execution_count": 90,
   "metadata": {
    "colab": {
     "base_uri": "https://localhost:8080/"
    },
    "id": "E9tsiJ3bxD_M",
    "outputId": "17d4db4f-1716-4ca4-b86e-4a17dae1513b"
   },
   "outputs": [
    {
     "data": {
      "text/plain": [
       "((2649, 50, 1), (2649, 1))"
      ]
     },
     "execution_count": 90,
     "metadata": {},
     "output_type": "execute_result"
    }
   ],
   "source": [
    "window_size = 50\n",
    "\n",
    "x_data, y_data = [],[]\n",
    "\n",
    "for i in range(window_size, len(scaled_data)):\n",
    "    x_data.append(scaled_data[i-window_size:i,0])\n",
    "    y_data.append(scaled_data[i,0])\n",
    "\n",
    "x_data, y_data = np.array(x_data), np.array(y_data)\n",
    "\n",
    "x_data = np.reshape(x_data, (x_data.shape[0], x_data.shape[1], 1))\n",
    "y_data = np.reshape(y_data, (y_data.shape[0], 1))\n",
    "\n",
    "x_data.shape, y_data.shape"
   ]
  },
  {
   "cell_type": "code",
   "execution_count": 91,
   "metadata": {
    "colab": {
     "base_uri": "https://localhost:8080/"
    },
    "id": "SFXhvVsMxGhE",
    "outputId": "349505af-3d13-4987-ec01-b4c8032a2d56"
   },
   "outputs": [
    {
     "data": {
      "text/plain": [
       "((2119, 50, 1), (2119, 1), (530, 50, 1), (530, 1), (530, 1))"
      ]
     },
     "execution_count": 91,
     "metadata": {},
     "output_type": "execute_result"
    }
   ],
   "source": [
    "train_size = 0.8\n",
    "\n",
    "x_train, x_test = x_data[:(int)(len(x_data)*train_size)], x_data[(int)(len(x_data)*train_size):]\n",
    "y_train, y_test = y_data[:(int)(len(y_data)*train_size)], y_data[(int)(len(y_data)*train_size):]\n",
    "\n",
    "y_original = dataset[window_size + len(y_train):]\n",
    "\n",
    "x_train.shape, y_train.shape, x_test.shape, y_test.shape, y_original.shape"
   ]
  },
  {
   "cell_type": "markdown",
   "metadata": {
    "id": "D1KFt9Z6mazI"
   },
   "source": [
    "## 4. Deployment and Monitoring: (LSTM model)"
   ]
  },
  {
   "cell_type": "code",
   "execution_count": 92,
   "metadata": {
    "colab": {
     "base_uri": "https://localhost:8080/"
    },
    "id": "plB6BMHexJkf",
    "outputId": "98391d2b-c3d3-429f-e926-5a07f91f03aa"
   },
   "outputs": [
    {
     "data": {
      "text/html": [
       "<pre style=\"white-space:pre;overflow-x:auto;line-height:normal;font-family:Menlo,'DejaVu Sans Mono',consolas,'Courier New',monospace\"><span style=\"font-weight: bold\">Model: \"sequential_3\"</span>\n",
       "</pre>\n"
      ],
      "text/plain": [
       "\u001b[1mModel: \"sequential_3\"\u001b[0m\n"
      ]
     },
     "metadata": {},
     "output_type": "display_data"
    },
    {
     "data": {
      "text/html": [
       "<pre style=\"white-space:pre;overflow-x:auto;line-height:normal;font-family:Menlo,'DejaVu Sans Mono',consolas,'Courier New',monospace\">┏━━━━━━━━━━━━━━━━━━━━━━━━━━━━━━━━━┳━━━━━━━━━━━━━━━━━━━━━━━━┳━━━━━━━━━━━━━━━┓\n",
       "┃<span style=\"font-weight: bold\"> Layer (type)                    </span>┃<span style=\"font-weight: bold\"> Output Shape           </span>┃<span style=\"font-weight: bold\">       Param # </span>┃\n",
       "┡━━━━━━━━━━━━━━━━━━━━━━━━━━━━━━━━━╇━━━━━━━━━━━━━━━━━━━━━━━━╇━━━━━━━━━━━━━━━┩\n",
       "│ lstm_6 (<span style=\"color: #0087ff; text-decoration-color: #0087ff\">LSTM</span>)                   │ (<span style=\"color: #00d7ff; text-decoration-color: #00d7ff\">None</span>, <span style=\"color: #00af00; text-decoration-color: #00af00\">50</span>, <span style=\"color: #00af00; text-decoration-color: #00af00\">50</span>)         │        <span style=\"color: #00af00; text-decoration-color: #00af00\">10,400</span> │\n",
       "├─────────────────────────────────┼────────────────────────┼───────────────┤\n",
       "│ dropout_3 (<span style=\"color: #0087ff; text-decoration-color: #0087ff\">Dropout</span>)             │ (<span style=\"color: #00d7ff; text-decoration-color: #00d7ff\">None</span>, <span style=\"color: #00af00; text-decoration-color: #00af00\">50</span>, <span style=\"color: #00af00; text-decoration-color: #00af00\">50</span>)         │             <span style=\"color: #00af00; text-decoration-color: #00af00\">0</span> │\n",
       "├─────────────────────────────────┼────────────────────────┼───────────────┤\n",
       "│ lstm_7 (<span style=\"color: #0087ff; text-decoration-color: #0087ff\">LSTM</span>)                   │ (<span style=\"color: #00d7ff; text-decoration-color: #00d7ff\">None</span>, <span style=\"color: #00af00; text-decoration-color: #00af00\">50</span>)             │        <span style=\"color: #00af00; text-decoration-color: #00af00\">20,200</span> │\n",
       "├─────────────────────────────────┼────────────────────────┼───────────────┤\n",
       "│ dense_3 (<span style=\"color: #0087ff; text-decoration-color: #0087ff\">Dense</span>)                 │ (<span style=\"color: #00d7ff; text-decoration-color: #00d7ff\">None</span>, <span style=\"color: #00af00; text-decoration-color: #00af00\">1</span>)              │            <span style=\"color: #00af00; text-decoration-color: #00af00\">51</span> │\n",
       "└─────────────────────────────────┴────────────────────────┴───────────────┘\n",
       "</pre>\n"
      ],
      "text/plain": [
       "┏━━━━━━━━━━━━━━━━━━━━━━━━━━━━━━━━━┳━━━━━━━━━━━━━━━━━━━━━━━━┳━━━━━━━━━━━━━━━┓\n",
       "┃\u001b[1m \u001b[0m\u001b[1mLayer (type)                   \u001b[0m\u001b[1m \u001b[0m┃\u001b[1m \u001b[0m\u001b[1mOutput Shape          \u001b[0m\u001b[1m \u001b[0m┃\u001b[1m \u001b[0m\u001b[1m      Param #\u001b[0m\u001b[1m \u001b[0m┃\n",
       "┡━━━━━━━━━━━━━━━━━━━━━━━━━━━━━━━━━╇━━━━━━━━━━━━━━━━━━━━━━━━╇━━━━━━━━━━━━━━━┩\n",
       "│ lstm_6 (\u001b[38;5;33mLSTM\u001b[0m)                   │ (\u001b[38;5;45mNone\u001b[0m, \u001b[38;5;34m50\u001b[0m, \u001b[38;5;34m50\u001b[0m)         │        \u001b[38;5;34m10,400\u001b[0m │\n",
       "├─────────────────────────────────┼────────────────────────┼───────────────┤\n",
       "│ dropout_3 (\u001b[38;5;33mDropout\u001b[0m)             │ (\u001b[38;5;45mNone\u001b[0m, \u001b[38;5;34m50\u001b[0m, \u001b[38;5;34m50\u001b[0m)         │             \u001b[38;5;34m0\u001b[0m │\n",
       "├─────────────────────────────────┼────────────────────────┼───────────────┤\n",
       "│ lstm_7 (\u001b[38;5;33mLSTM\u001b[0m)                   │ (\u001b[38;5;45mNone\u001b[0m, \u001b[38;5;34m50\u001b[0m)             │        \u001b[38;5;34m20,200\u001b[0m │\n",
       "├─────────────────────────────────┼────────────────────────┼───────────────┤\n",
       "│ dense_3 (\u001b[38;5;33mDense\u001b[0m)                 │ (\u001b[38;5;45mNone\u001b[0m, \u001b[38;5;34m1\u001b[0m)              │            \u001b[38;5;34m51\u001b[0m │\n",
       "└─────────────────────────────────┴────────────────────────┴───────────────┘\n"
      ]
     },
     "metadata": {},
     "output_type": "display_data"
    },
    {
     "data": {
      "text/html": [
       "<pre style=\"white-space:pre;overflow-x:auto;line-height:normal;font-family:Menlo,'DejaVu Sans Mono',consolas,'Courier New',monospace\"><span style=\"font-weight: bold\"> Total params: </span><span style=\"color: #00af00; text-decoration-color: #00af00\">30,651</span> (119.73 KB)\n",
       "</pre>\n"
      ],
      "text/plain": [
       "\u001b[1m Total params: \u001b[0m\u001b[38;5;34m30,651\u001b[0m (119.73 KB)\n"
      ]
     },
     "metadata": {},
     "output_type": "display_data"
    },
    {
     "data": {
      "text/html": [
       "<pre style=\"white-space:pre;overflow-x:auto;line-height:normal;font-family:Menlo,'DejaVu Sans Mono',consolas,'Courier New',monospace\"><span style=\"font-weight: bold\"> Trainable params: </span><span style=\"color: #00af00; text-decoration-color: #00af00\">30,651</span> (119.73 KB)\n",
       "</pre>\n"
      ],
      "text/plain": [
       "\u001b[1m Trainable params: \u001b[0m\u001b[38;5;34m30,651\u001b[0m (119.73 KB)\n"
      ]
     },
     "metadata": {},
     "output_type": "display_data"
    },
    {
     "data": {
      "text/html": [
       "<pre style=\"white-space:pre;overflow-x:auto;line-height:normal;font-family:Menlo,'DejaVu Sans Mono',consolas,'Courier New',monospace\"><span style=\"font-weight: bold\"> Non-trainable params: </span><span style=\"color: #00af00; text-decoration-color: #00af00\">0</span> (0.00 B)\n",
       "</pre>\n"
      ],
      "text/plain": [
       "\u001b[1m Non-trainable params: \u001b[0m\u001b[38;5;34m0\u001b[0m (0.00 B)\n"
      ]
     },
     "metadata": {},
     "output_type": "display_data"
    }
   ],
   "source": [
    "import keras\n",
    "from keras.models import Sequential\n",
    "from keras.layers import LSTM, Dropout, Dense\n",
    "\n",
    "model=Sequential()\n",
    "model.add(LSTM(units=50, return_sequences=True, input_shape=(x_train.shape[1],1)))\n",
    "model.add(Dropout(0.1))\n",
    "model.add(LSTM(units=50))\n",
    "model.add(Dense(1))\n",
    "\n",
    "model.summary()"
   ]
  },
  {
   "cell_type": "code",
   "execution_count": 93,
   "metadata": {
    "colab": {
     "base_uri": "https://localhost:8080/"
    },
    "id": "-_p59q2TeL07",
    "outputId": "78689841-942c-461d-bbcb-6866050ae83c"
   },
   "outputs": [
    {
     "name": "stdout",
     "output_type": "stream",
     "text": [
      "Epoch 1/60\n",
      "17/17 - 2s - 122ms/step - loss: 0.0270 - mae: 0.1196\n",
      "Epoch 2/60\n",
      "17/17 - 0s - 27ms/step - loss: 0.0033 - mae: 0.0433\n",
      "Epoch 3/60\n",
      "17/17 - 0s - 28ms/step - loss: 6.6653e-04 - mae: 0.0192\n",
      "Epoch 4/60\n",
      "17/17 - 0s - 27ms/step - loss: 4.1222e-04 - mae: 0.0146\n",
      "Epoch 5/60\n",
      "17/17 - 1s - 30ms/step - loss: 3.3823e-04 - mae: 0.0131\n",
      "Epoch 6/60\n",
      "17/17 - 0s - 29ms/step - loss: 3.2553e-04 - mae: 0.0127\n",
      "Epoch 7/60\n",
      "17/17 - 0s - 29ms/step - loss: 3.2886e-04 - mae: 0.0126\n",
      "Epoch 8/60\n",
      "17/17 - 1s - 30ms/step - loss: 3.2902e-04 - mae: 0.0126\n",
      "Epoch 9/60\n",
      "17/17 - 1s - 30ms/step - loss: 3.1339e-04 - mae: 0.0124\n",
      "Epoch 10/60\n",
      "17/17 - 1s - 30ms/step - loss: 3.0214e-04 - mae: 0.0122\n",
      "Epoch 11/60\n",
      "17/17 - 1s - 30ms/step - loss: 3.1016e-04 - mae: 0.0120\n",
      "Epoch 12/60\n",
      "17/17 - 1s - 30ms/step - loss: 3.0113e-04 - mae: 0.0121\n",
      "Epoch 13/60\n",
      "17/17 - 1s - 29ms/step - loss: 3.0818e-04 - mae: 0.0123\n",
      "Epoch 14/60\n",
      "17/17 - 0s - 29ms/step - loss: 3.2109e-04 - mae: 0.0123\n",
      "Epoch 15/60\n",
      "17/17 - 1s - 30ms/step - loss: 3.0505e-04 - mae: 0.0122\n",
      "Epoch 16/60\n",
      "17/17 - 1s - 31ms/step - loss: 3.0672e-04 - mae: 0.0121\n",
      "Epoch 17/60\n",
      "17/17 - 1s - 32ms/step - loss: 2.8302e-04 - mae: 0.0117\n",
      "Epoch 18/60\n",
      "17/17 - 1s - 30ms/step - loss: 2.9200e-04 - mae: 0.0118\n",
      "Epoch 19/60\n",
      "17/17 - 1s - 31ms/step - loss: 2.7854e-04 - mae: 0.0116\n",
      "Epoch 20/60\n",
      "17/17 - 1s - 30ms/step - loss: 2.8141e-04 - mae: 0.0115\n",
      "Epoch 21/60\n",
      "17/17 - 0s - 29ms/step - loss: 2.7640e-04 - mae: 0.0116\n",
      "Epoch 22/60\n",
      "17/17 - 1s - 33ms/step - loss: 2.7018e-04 - mae: 0.0113\n",
      "Epoch 23/60\n",
      "17/17 - 1s - 43ms/step - loss: 2.9191e-04 - mae: 0.0116\n",
      "Epoch 24/60\n",
      "17/17 - 1s - 44ms/step - loss: 2.7548e-04 - mae: 0.0116\n",
      "Epoch 25/60\n",
      "17/17 - 1s - 42ms/step - loss: 2.6984e-04 - mae: 0.0115\n",
      "Epoch 26/60\n",
      "17/17 - 1s - 42ms/step - loss: 2.7528e-04 - mae: 0.0115\n",
      "Epoch 27/60\n",
      "17/17 - 1s - 41ms/step - loss: 2.6607e-04 - mae: 0.0113\n",
      "Epoch 28/60\n",
      "17/17 - 1s - 42ms/step - loss: 2.7288e-04 - mae: 0.0116\n",
      "Epoch 29/60\n",
      "17/17 - 1s - 42ms/step - loss: 2.5265e-04 - mae: 0.0110\n",
      "Epoch 30/60\n",
      "17/17 - 1s - 41ms/step - loss: 2.5089e-04 - mae: 0.0111\n",
      "Epoch 31/60\n",
      "17/17 - 1s - 41ms/step - loss: 2.4670e-04 - mae: 0.0110\n",
      "Epoch 32/60\n",
      "17/17 - 1s - 41ms/step - loss: 2.5492e-04 - mae: 0.0112\n",
      "Epoch 33/60\n",
      "17/17 - 1s - 42ms/step - loss: 2.5458e-04 - mae: 0.0112\n",
      "Epoch 34/60\n",
      "17/17 - 1s - 53ms/step - loss: 2.5316e-04 - mae: 0.0109\n",
      "Epoch 35/60\n",
      "17/17 - 1s - 57ms/step - loss: 2.4892e-04 - mae: 0.0109\n",
      "Epoch 36/60\n",
      "17/17 - 1s - 49ms/step - loss: 2.6204e-04 - mae: 0.0111\n",
      "Epoch 37/60\n",
      "17/17 - 1s - 47ms/step - loss: 2.4865e-04 - mae: 0.0109\n",
      "Epoch 38/60\n",
      "17/17 - 1s - 46ms/step - loss: 2.4258e-04 - mae: 0.0108\n",
      "Epoch 39/60\n",
      "17/17 - 1s - 44ms/step - loss: 2.5263e-04 - mae: 0.0111\n",
      "Epoch 40/60\n",
      "17/17 - 1s - 52ms/step - loss: 2.7230e-04 - mae: 0.0114\n",
      "Epoch 41/60\n",
      "17/17 - 1s - 54ms/step - loss: 2.4470e-04 - mae: 0.0110\n",
      "Epoch 42/60\n",
      "17/17 - 1s - 69ms/step - loss: 2.3509e-04 - mae: 0.0107\n",
      "Epoch 43/60\n",
      "17/17 - 1s - 43ms/step - loss: 2.4596e-04 - mae: 0.0109\n",
      "Epoch 44/60\n",
      "17/17 - 1s - 42ms/step - loss: 2.2980e-04 - mae: 0.0105\n",
      "Epoch 45/60\n",
      "17/17 - 1s - 45ms/step - loss: 2.3146e-04 - mae: 0.0107\n",
      "Epoch 46/60\n",
      "17/17 - 1s - 46ms/step - loss: 2.3399e-04 - mae: 0.0106\n",
      "Epoch 47/60\n",
      "17/17 - 1s - 44ms/step - loss: 2.3817e-04 - mae: 0.0108\n",
      "Epoch 48/60\n",
      "17/17 - 1s - 47ms/step - loss: 2.3470e-04 - mae: 0.0108\n",
      "Epoch 49/60\n",
      "17/17 - 1s - 45ms/step - loss: 2.2706e-04 - mae: 0.0104\n",
      "Epoch 50/60\n",
      "17/17 - 1s - 43ms/step - loss: 2.1653e-04 - mae: 0.0104\n",
      "Epoch 51/60\n",
      "17/17 - 1s - 43ms/step - loss: 2.0255e-04 - mae: 0.0100\n",
      "Epoch 52/60\n",
      "17/17 - 1s - 42ms/step - loss: 2.1797e-04 - mae: 0.0103\n",
      "Epoch 53/60\n",
      "17/17 - 1s - 45ms/step - loss: 2.2855e-04 - mae: 0.0105\n",
      "Epoch 54/60\n",
      "17/17 - 1s - 45ms/step - loss: 2.2126e-04 - mae: 0.0104\n",
      "Epoch 55/60\n",
      "17/17 - 1s - 48ms/step - loss: 2.0716e-04 - mae: 0.0102\n",
      "Epoch 56/60\n",
      "17/17 - 1s - 50ms/step - loss: 2.0354e-04 - mae: 0.0101\n",
      "Epoch 57/60\n",
      "17/17 - 1s - 53ms/step - loss: 2.0526e-04 - mae: 0.0100\n",
      "Epoch 58/60\n",
      "17/17 - 1s - 49ms/step - loss: 2.1125e-04 - mae: 0.0101\n",
      "Epoch 59/60\n",
      "17/17 - 1s - 42ms/step - loss: 1.9380e-04 - mae: 0.0098\n",
      "Epoch 60/60\n",
      "17/17 - 1s - 43ms/step - loss: 2.0401e-04 - mae: 0.0101\n"
     ]
    },
    {
     "data": {
      "text/plain": [
       "<keras.src.callbacks.history.History at 0x7542142aead0>"
      ]
     },
     "execution_count": 93,
     "metadata": {},
     "output_type": "execute_result"
    }
   ],
   "source": [
    "from keras.losses import mean_squared_error\n",
    "model.compile(loss='mean_squared_error', optimizer='adam', metrics=['mae'])\n",
    "model.fit(x_train, y_train, epochs=60, batch_size=128, verbose=2)"
   ]
  },
  {
   "cell_type": "code",
   "execution_count": 68,
   "metadata": {
    "colab": {
     "base_uri": "https://localhost:8080/"
    },
    "id": "RswmZzsueWBV",
    "outputId": "8c307d96-03de-4d7c-c99e-7c64a96d6b81"
   },
   "outputs": [
    {
     "name": "stdout",
     "output_type": "stream",
     "text": [
      "\u001b[1m17/17\u001b[0m \u001b[32m━━━━━━━━━━━━━━━━━━━━\u001b[0m\u001b[37m\u001b[0m \u001b[1m0s\u001b[0m 13ms/step\n",
      "Loss:  tf.Tensor(0.0004365284, shape=(), dtype=float32)\n"
     ]
    }
   ],
   "source": [
    "y_pred = model.predict(x_test)\n",
    "print('Loss: ', sum(keras.losses.mean_squared_error(y_test, y_pred))/len(y_pred))"
   ]
  },
  {
   "cell_type": "code",
   "execution_count": 78,
   "metadata": {
    "colab": {
     "base_uri": "https://localhost:8080/"
    },
    "id": "sKC_O5bRejWD",
    "outputId": "5f43a4da-f8cc-470e-b86b-e172d7d99467"
   },
   "outputs": [
    {
     "name": "stdout",
     "output_type": "stream",
     "text": [
      "[[17243.734]\n",
      " [17260.168]\n",
      " [17271.238]\n",
      " [17239.803]\n",
      " [17221.947]]\n"
     ]
    }
   ],
   "source": [
    "closing_price = scaler.inverse_transform(y_pred)\n",
    "print(closing_price[:5])"
   ]
  },
  {
   "cell_type": "code",
   "execution_count": 70,
   "metadata": {
    "colab": {
     "base_uri": "https://localhost:8080/",
     "height": 735
    },
    "id": "1JFu0Gg1emoA",
    "outputId": "c0479af6-8ec8-4f26-a968-6f156ca4ff4e"
   },
   "outputs": [
    {
     "data": {
      "text/plain": [
       "<matplotlib.legend.Legend at 0x75424cf44c50>"
      ]
     },
     "execution_count": 70,
     "metadata": {},
     "output_type": "execute_result"
    },
    {
     "data": {
      "image/png": "[encoded data removed]",
      "text/plain": [
       "<Figure size 1500x800 with 1 Axes>"
      ]
     },
     "metadata": {},
     "output_type": "display_data"
    }
   ],
   "source": [
    "validation = y_original\n",
    "validation['Predictions'] = closing_price\n",
    "\n",
    "plt.figure(figsize=(15,8))\n",
    "plt.plot(validation['Close'], label=\"Actual Close Price\")\n",
    "plt.plot(validation['Predictions'], label=\"Predicted Close Price\")\n",
    "plt.title(\"Actual Close vs Predicted Close\")\n",
    "plt.xlabel(\"Date\")\n",
    "plt.ylabel(\"Stock Price\")\n",
    "plt.legend()"
   ]
  },
  {
   "cell_type": "code",
   "execution_count": null,
   "metadata": {},
   "outputs": [],
   "source": []
  }
 ],
 "metadata": {
  "colab": {
   "provenance": []
  },
  "kernelspec": {
   "display_name": "Python 3 (ipykernel)",
   "language": "python",
   "name": "python3"
  },
  "language_info": {
   "codemirror_mode": {
    "name": "ipython",
    "version": 3
   },
   "file_extension": ".py",
   "mimetype": "text/x-python",
   "name": "python",
   "nbconvert_exporter": "python",
   "pygments_lexer": "ipython3",
   "version": "3.11.6"
  }
 },
 "nbformat": 4,
 "nbformat_minor": 4
}
